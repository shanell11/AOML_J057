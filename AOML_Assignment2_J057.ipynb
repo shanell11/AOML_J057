{
  "nbformat": 4,
  "nbformat_minor": 0,
  "metadata": {
    "colab": {
      "provenance": []
    },
    "kernelspec": {
      "name": "python3",
      "display_name": "Python 3"
    },
    "language_info": {
      "name": "python"
    }
  },
  "cells": [
    {
      "cell_type": "code",
      "source": [
        "import pandas as pd\n",
        "import numpy as np\n",
        "import seaborn as sns\n",
        "import matplotlib.pyplot as plt\n",
        "from sklearn.model_selection import train_test_split\n",
        "from sklearn.preprocessing import StandardScaler\n",
        "from sklearn.ensemble import RandomForestClassifier\n",
        "from sklearn.metrics import classification_report, confusion_matrix\n",
        "import joblib"
      ],
      "metadata": {
        "id": "E6mKMszxWFFX"
      },
      "execution_count": 8,
      "outputs": []
    },
    {
      "cell_type": "markdown",
      "source": [
        "**STELLAR CLASSIFICATION DATASET**"
      ],
      "metadata": {
        "id": "IG2XyAdTXZ-s"
      }
    },
    {
      "cell_type": "code",
      "source": [
        "# Load dataset from local file\n",
        "df = pd.read_csv(\"/content/StarClassificationDataset.csv\")\n",
        "print(\"Dataset Loaded:\\n\", df.head())"
      ],
      "metadata": {
        "colab": {
          "base_uri": "https://localhost:8080/"
        },
        "id": "t4iVG92NWFDF",
        "outputId": "94a12e38-1fae-46d0-b066-98d182d36ace"
      },
      "execution_count": 9,
      "outputs": [
        {
          "output_type": "stream",
          "name": "stdout",
          "text": [
            "Dataset Loaded:\n",
            "       object_ID        alpha      delta  UV_filter  green_filter  red_filter  \\\n",
            "0  1.240000e+18  135.6891066  32.494632   23.87882      22.27530    20.39501   \n",
            "1  1.240000e+18  144.8261006  31.274185   24.77759      22.83188    22.58444   \n",
            "2  1.240000e+18  142.1887896  35.582444   25.26307      22.66389    20.60976   \n",
            "3  1.240000e+18  338.7410378  -0.402828   22.13682      23.77656    21.61162   \n",
            "4  1.240000e+18  345.2825932  21.183866   19.43718      17.58028    16.49747   \n",
            "\n",
            "   near_IR_filter  IR_filter run_ID  rerun_ID  cam_col  field_ID  \\\n",
            "0        19.16573   18.79371   3606       301        2        79   \n",
            "1        21.16812   21.61427   4518       301        5       119   \n",
            "2        19.34857   18.94827   3606       301        2       120   \n",
            "3        20.50454   19.25010   4192       301        3       214   \n",
            "4        15.97711   15.54461    NaN       301        3       137   \n",
            "\n",
            "    spec_obj_ID  red_shift  plate_ID    MJD  fiber_ID   class  \n",
            "0  6.540000e+18   0.634794      5812  56354       171  GALAXY  \n",
            "1  1.180000e+19   0.779136     10445  58158       427  GALAXY  \n",
            "2  5.150000e+18   0.644195      4576  55592       299  GALAXY  \n",
            "3  1.030000e+19   0.932346      9149  58039       775  GALAXY  \n",
            "4  6.890000e+18   0.116123      6121  56187       842  GALAXY  \n"
          ]
        },
        {
          "output_type": "stream",
          "name": "stderr",
          "text": [
            "<ipython-input-9-1415f723cabd>:2: DtypeWarning: Columns (1,8) have mixed types. Specify dtype option on import or set low_memory=False.\n",
            "  df = pd.read_csv(\"/content/StarClassificationDataset.csv\")\n"
          ]
        }
      ]
    },
    {
      "cell_type": "code",
      "source": [
        "# Drop unnecessary columns\n",
        "df = df.drop(columns=['object_ID'])"
      ],
      "metadata": {
        "id": "TRqF3MyCWFBc"
      },
      "execution_count": 10,
      "outputs": []
    },
    {
      "cell_type": "code",
      "source": [
        "# Handle missing values and strip whitespace\n",
        "df = df.replace(r'^\\s*$', np.nan, regex=True).dropna()"
      ],
      "metadata": {
        "id": "EZmc2JYMWE--"
      },
      "execution_count": 11,
      "outputs": []
    },
    {
      "cell_type": "code",
      "source": [
        "# Identify non-numeric columns\n",
        "non_numeric_cols = df.select_dtypes(exclude=[np.number]).columns.tolist()\n",
        "print(\"Non-numeric columns:\", non_numeric_cols)\n"
      ],
      "metadata": {
        "colab": {
          "base_uri": "https://localhost:8080/"
        },
        "id": "svzEjsLMWE8y",
        "outputId": "877cda01-7472-4cfd-a139-43a25543d4d8"
      },
      "execution_count": 12,
      "outputs": [
        {
          "output_type": "stream",
          "name": "stdout",
          "text": [
            "Non-numeric columns: ['alpha', 'run_ID', 'class']\n"
          ]
        }
      ]
    },
    {
      "cell_type": "code",
      "source": [
        "# Convert non-numeric columns to numeric\n",
        "for col in non_numeric_cols:\n",
        "    if col != 'class':  # Skip the target column\n",
        "        df[col] = pd.to_numeric(df[col], errors='coerce')"
      ],
      "metadata": {
        "id": "iD-aAElqWN31"
      },
      "execution_count": 13,
      "outputs": []
    },
    {
      "cell_type": "code",
      "source": [
        "# Drop any remaining NaN values after conversion\n",
        "df = df.dropna()"
      ],
      "metadata": {
        "id": "tNZVYIrRWN0a"
      },
      "execution_count": 14,
      "outputs": []
    },
    {
      "cell_type": "code",
      "source": [
        "# Convert categorical target to numeric encoding\n",
        "class_mapping = {label: idx for idx, label in enumerate(df['class'].unique())}\n",
        "df['class'] = df['class'].map(class_mapping)"
      ],
      "metadata": {
        "id": "sq07K224WSSP"
      },
      "execution_count": 15,
      "outputs": []
    },
    {
      "cell_type": "code",
      "source": [
        "# Define features and target\n",
        "X = df.drop(columns=['class'])\n",
        "y = df['class']"
      ],
      "metadata": {
        "id": "j4OElK3IWSQJ"
      },
      "execution_count": 16,
      "outputs": []
    },
    {
      "cell_type": "code",
      "source": [
        "# Stratified splitting\n",
        "df['class'].value_counts(normalize=True)\n",
        "X_train, X_val, y_train, y_val = train_test_split(X, y, test_size=0.2, stratify=y, random_state=42)\n",
        "print(\"Training set class distribution:\\n\", y_train.value_counts(normalize=True))\n",
        "print(\"Validation set class distribution:\\n\", y_val.value_counts(normalize=True))"
      ],
      "metadata": {
        "colab": {
          "base_uri": "https://localhost:8080/"
        },
        "id": "xZfbiRoRWSN6",
        "outputId": "d48d8921-a71d-47a7-db5e-78e5376c3eac"
      },
      "execution_count": 17,
      "outputs": [
        {
          "output_type": "stream",
          "name": "stdout",
          "text": [
            "Training set class distribution:\n",
            " class\n",
            "0    0.594417\n",
            "2    0.215962\n",
            "1    0.189621\n",
            "Name: proportion, dtype: float64\n",
            "Validation set class distribution:\n",
            " class\n",
            "0    0.594409\n",
            "2    0.215972\n",
            "1    0.189619\n",
            "Name: proportion, dtype: float64\n"
          ]
        }
      ]
    },
    {
      "cell_type": "code",
      "source": [
        "# Feature scaling\n",
        "scaler = StandardScaler()\n",
        "X_train = scaler.fit_transform(X_train)\n",
        "X_val = scaler.transform(X_val)"
      ],
      "metadata": {
        "id": "SmImj8fbWX_d"
      },
      "execution_count": 18,
      "outputs": []
    },
    {
      "cell_type": "code",
      "source": [
        "# Train classification model\n",
        "model = RandomForestClassifier(n_estimators=100, random_state=42)\n",
        "model.fit(X_train, y_train)\n",
        "print(\"Model trained successfully\")"
      ],
      "metadata": {
        "colab": {
          "base_uri": "https://localhost:8080/"
        },
        "id": "xZ1SpbSVWX9X",
        "outputId": "082b648a-fb1d-4634-8bc3-94d55c222839"
      },
      "execution_count": 19,
      "outputs": [
        {
          "output_type": "stream",
          "name": "stdout",
          "text": [
            "Model trained successfully\n"
          ]
        }
      ]
    },
    {
      "cell_type": "code",
      "source": [
        "# Evaluate model\n",
        "y_pred = model.predict(X_val)\n",
        "report = classification_report(y_val, y_pred)\n",
        "print(\"Classification Report:\\n\", report)"
      ],
      "metadata": {
        "colab": {
          "base_uri": "https://localhost:8080/"
        },
        "id": "lrxnFDobWX7B",
        "outputId": "891af91c-489c-4126-d51e-8856fd07b1c8"
      },
      "execution_count": 20,
      "outputs": [
        {
          "output_type": "stream",
          "name": "stdout",
          "text": [
            "Classification Report:\n",
            "               precision    recall  f1-score   support\n",
            "\n",
            "           0       0.98      0.99      0.98     11887\n",
            "           1       0.96      0.93      0.95      3792\n",
            "           2       0.99      1.00      1.00      4319\n",
            "\n",
            "    accuracy                           0.98     19998\n",
            "   macro avg       0.98      0.97      0.98     19998\n",
            "weighted avg       0.98      0.98      0.98     19998\n",
            "\n"
          ]
        }
      ]
    },
    {
      "cell_type": "code",
      "source": [
        "# Confusion matrix\n",
        "cm = confusion_matrix(y_val, y_pred)\n",
        "plt.figure(figsize=(8,6))\n",
        "sns.heatmap(cm, annot=True, fmt='d', cmap='Blues', xticklabels=class_mapping.keys(), yticklabels=class_mapping.keys())\n",
        "plt.xlabel(\"Predicted\")\n",
        "plt.ylabel(\"Actual\")\n",
        "plt.title(\"Confusion Matrix\")\n",
        "plt.show()"
      ],
      "metadata": {
        "colab": {
          "base_uri": "https://localhost:8080/",
          "height": 564
        },
        "id": "4nlvtSa6WE5h",
        "outputId": "9f4788ff-da81-42f3-d5e8-cc7e39f3b759"
      },
      "execution_count": 21,
      "outputs": [
        {
          "output_type": "display_data",
          "data": {
            "text/plain": [
              "<Figure size 800x600 with 2 Axes>"
            ],
            "image/png": "[encoded data removed]"
          },
          "metadata": {}
        }
      ]
    },
    {
      "cell_type": "code",
      "source": [
        "# Save model and scaler\n",
        "joblib.dump(scaler, \"scaler.pkl\")\n",
        "joblib.dump(model, \"stellar_model.pkl\")\n",
        "print(\"Model and scaler saved successfully\")"
      ],
      "metadata": {
        "colab": {
          "base_uri": "https://localhost:8080/"
        },
        "id": "eMhOEso4Wm3b",
        "outputId": "e1fba18c-7509-411b-9b71-70fe98eb4af4"
      },
      "execution_count": 22,
      "outputs": [
        {
          "output_type": "stream",
          "name": "stdout",
          "text": [
            "Model and scaler saved successfully\n"
          ]
        }
      ]
    },
    {
      "cell_type": "markdown",
      "source": [
        "**CALIFORNIA HOUSING PRICES**"
      ],
      "metadata": {
        "id": "s-wtAblRXgwq"
      }
    },
    {
      "cell_type": "code",
      "source": [
        "from sklearn.linear_model import Ridge, Lasso\n",
        "from sklearn.metrics import mean_absolute_error, mean_squared_error"
      ],
      "metadata": {
        "id": "Mu2boFsiX78O"
      },
      "execution_count": 24,
      "outputs": []
    },
    {
      "cell_type": "code",
      "source": [
        "# Load dataset\n",
        "df = pd.read_csv(\"housing.csv\")\n",
        "print(\"Dataset Loaded:\\n\", df.head())"
      ],
      "metadata": {
        "colab": {
          "base_uri": "https://localhost:8080/"
        },
        "id": "3qumahROX7x4",
        "outputId": "f354d4a3-4f03-4dd2-df7a-58cc9b1c875d"
      },
      "execution_count": 25,
      "outputs": [
        {
          "output_type": "stream",
          "name": "stdout",
          "text": [
            "Dataset Loaded:\n",
            "    longitude  latitude  housing_median_age  total_rooms  total_bedrooms  \\\n",
            "0    -122.23     37.88                41.0        880.0           129.0   \n",
            "1    -122.22     37.86                21.0       7099.0          1106.0   \n",
            "2    -122.24     37.85                52.0       1467.0           190.0   \n",
            "3    -122.25     37.85                52.0       1274.0           235.0   \n",
            "4    -122.25     37.85                52.0       1627.0           280.0   \n",
            "\n",
            "   population  households  median_income  median_house_value ocean_proximity  \n",
            "0       322.0       126.0         8.3252            452600.0        NEAR BAY  \n",
            "1      2401.0      1138.0         8.3014            358500.0        NEAR BAY  \n",
            "2       496.0       177.0         7.2574            352100.0        NEAR BAY  \n",
            "3       558.0       219.0         5.6431            341300.0        NEAR BAY  \n",
            "4       565.0       259.0         3.8462            342200.0        NEAR BAY  \n"
          ]
        }
      ]
    },
    {
      "cell_type": "code",
      "source": [
        "# Handle missing values\n",
        "df = df.dropna()"
      ],
      "metadata": {
        "id": "Ay1dmluoX7vj"
      },
      "execution_count": 26,
      "outputs": []
    },
    {
      "cell_type": "code",
      "source": [
        "# Define Sturge's Rule for binning\n",
        "def sturges_rule(n):\n",
        "    return int(np.ceil(1 + np.log2(n)))\n"
      ],
      "metadata": {
        "id": "5tiCP1r6X7on"
      },
      "execution_count": 27,
      "outputs": []
    },
    {
      "cell_type": "code",
      "source": [
        "# Apply stratified splitting using Sturge’s Rule\n",
        "num_bins = sturges_rule(len(df))\n",
        "df[\"price_bin\"] = pd.cut(df[\"median_house_value\"], bins=num_bins, labels=False)"
      ],
      "metadata": {
        "id": "vlrWTZsJX7li"
      },
      "execution_count": 28,
      "outputs": []
    },
    {
      "cell_type": "code",
      "source": [
        "# Define features and target\n",
        "X = df.drop(columns=[\"median_house_value\", \"price_bin\"])\n",
        "y = df[\"median_house_value\"]"
      ],
      "metadata": {
        "id": "2ed1sYx1YJFq"
      },
      "execution_count": 29,
      "outputs": []
    },
    {
      "cell_type": "code",
      "source": [
        "# One-hot encode categorical feature 'ocean_proximity'\n",
        "X = pd.get_dummies(X, drop_first=True)"
      ],
      "metadata": {
        "id": "Vpeq5TVdYJC2"
      },
      "execution_count": 30,
      "outputs": []
    },
    {
      "cell_type": "code",
      "source": [
        "# Stratified splitting\n",
        "X_train, X_val, y_train, y_val = train_test_split(X, y, test_size=0.2, stratify=df[\"price_bin\"], random_state=42)\n",
        "print(\"Training and validation sets created using stratified split.\")"
      ],
      "metadata": {
        "colab": {
          "base_uri": "https://localhost:8080/"
        },
        "id": "9nmab_tXYJAl",
        "outputId": "a918fbdb-f986-4ea4-a7fc-5753c18569be"
      },
      "execution_count": 31,
      "outputs": [
        {
          "output_type": "stream",
          "name": "stdout",
          "text": [
            "Training and validation sets created using stratified split.\n"
          ]
        }
      ]
    },
    {
      "cell_type": "code",
      "source": [
        "# Feature scaling\n",
        "scaler = StandardScaler()\n",
        "X_train = scaler.fit_transform(X_train)\n",
        "X_val = scaler.transform(X_val)\n"
      ],
      "metadata": {
        "id": "19xca5SzYOTX"
      },
      "execution_count": 32,
      "outputs": []
    },
    {
      "cell_type": "code",
      "source": [
        "# Train Ridge and Lasso models\n",
        "ridge = Ridge(alpha=1.0)\n",
        "lasso = Lasso(alpha=0.1)\n",
        "ridge.fit(X_train, y_train)\n",
        "lasso.fit(X_train, y_train)\n",
        "print(\"Models trained successfully.\")"
      ],
      "metadata": {
        "colab": {
          "base_uri": "https://localhost:8080/"
        },
        "id": "GQlh085jYOQ1",
        "outputId": "41e44aa6-d23e-4ac9-8186-29a912c18846"
      },
      "execution_count": 33,
      "outputs": [
        {
          "output_type": "stream",
          "name": "stdout",
          "text": [
            "Models trained successfully.\n"
          ]
        }
      ]
    },
    {
      "cell_type": "code",
      "source": [
        "# Predictions\n",
        "y_pred_ridge = ridge.predict(X_val)\n",
        "y_pred_lasso = lasso.predict(X_val)"
      ],
      "metadata": {
        "id": "VgENt8YRYON8"
      },
      "execution_count": 34,
      "outputs": []
    },
    {
      "cell_type": "code",
      "source": [
        "# Evaluate models\n",
        "def evaluate_model(y_true, y_pred, model_name):\n",
        "    mae = mean_absolute_error(y_true, y_pred)\n",
        "    mse = mean_squared_error(y_true, y_pred)\n",
        "    rmse = np.sqrt(mse)\n",
        "    print(f\"{model_name} Evaluation:\")\n",
        "    print(f\"MAE: {mae:.2f}\")\n",
        "    print(f\"MSE: {mse:.2f}\")\n",
        "    print(f\"RMSE: {rmse:.2f}\\n\")\n",
        "    return mae, mse, rmse\n",
        "\n",
        "ridge_results = evaluate_model(y_val, y_pred_ridge, \"Ridge Regression\")\n",
        "lasso_results = evaluate_model(y_val, y_pred_lasso, \"Lasso Regression\")"
      ],
      "metadata": {
        "colab": {
          "base_uri": "https://localhost:8080/"
        },
        "id": "ZzKa_ga-YOLY",
        "outputId": "a37d7d6e-9227-4cc0-d126-acb139225f26"
      },
      "execution_count": 35,
      "outputs": [
        {
          "output_type": "stream",
          "name": "stdout",
          "text": [
            "Ridge Regression Evaluation:\n",
            "MAE: 50398.52\n",
            "MSE: 5000621993.92\n",
            "RMSE: 70715.08\n",
            "\n",
            "Lasso Regression Evaluation:\n",
            "MAE: 50399.37\n",
            "MSE: 5000821787.55\n",
            "RMSE: 70716.49\n",
            "\n"
          ]
        }
      ]
    },
    {
      "cell_type": "code",
      "source": [
        "# Save model and scaler\n",
        "joblib.dump(scaler, \"scaler.pkl\")\n",
        "joblib.dump(ridge, \"ridge_model.pkl\")\n",
        "joblib.dump(lasso, \"lasso_model.pkl\")\n",
        "print(\"Models and scaler saved successfully.\")"
      ],
      "metadata": {
        "colab": {
          "base_uri": "https://localhost:8080/"
        },
        "id": "uXIKircRX7jD",
        "outputId": "24a46831-2b6f-462d-c9e0-70922bce86f2"
      },
      "execution_count": 36,
      "outputs": [
        {
          "output_type": "stream",
          "name": "stdout",
          "text": [
            "Models and scaler saved successfully.\n"
          ]
        }
      ]
    }
  ]
}