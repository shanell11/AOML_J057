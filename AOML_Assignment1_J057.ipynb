{
  "nbformat": 4,
  "nbformat_minor": 0,
  "metadata": {
    "colab": {
      "provenance": []
    },
    "kernelspec": {
      "name": "python3",
      "display_name": "Python 3"
    },
    "language_info": {
      "name": "python"
    }
  },
  "cells": [
    {
      "cell_type": "code",
      "source": [
        "import pandas as pd\n",
        "import numpy as np\n",
        "from sklearn.model_selection import train_test_split\n",
        "from sklearn.preprocessing import StandardScaler, OneHotEncoder\n",
        "from sklearn.neighbors import KNeighborsClassifier\n",
        "from sklearn.tree import DecisionTreeClassifier\n",
        "from sklearn.pipeline import Pipeline\n",
        "from sklearn.compose import ColumnTransformer\n",
        "from sklearn.metrics import f1_score\n",
        "import joblib"
      ],
      "metadata": {
        "id": "Yw-amWbjRM6b"
      },
      "execution_count": 19,
      "outputs": []
    },
    {
      "cell_type": "code",
      "source": [
        "# Load dataset\n",
        "url = \"https://raw.githubusercontent.com/jbrownlee/Datasets/master/pima-indians-diabetes.data.csv\"\n",
        "columns = [\"Pregnancies\", \"Glucose\", \"BloodPressure\", \"SkinThickness\", \"Insulin\", \"BMI\", \"DiabetesPedigreeFunction\", \"Age\", \"Outcome\"]\n",
        "df = pd.read_csv(url, names=columns)\n",
        "print(\"Dataset Loaded:\\n\", df.head())"
      ],
      "metadata": {
        "colab": {
          "base_uri": "https://localhost:8080/"
        },
        "id": "XKAiMexYRM3J",
        "outputId": "28f153a0-5e0d-48d4-c0ae-70e6c5b7cf0e"
      },
      "execution_count": 20,
      "outputs": [
        {
          "output_type": "stream",
          "name": "stdout",
          "text": [
            "Dataset Loaded:\n",
            "    Pregnancies  Glucose  BloodPressure  SkinThickness  Insulin   BMI  \\\n",
            "0            6      148             72             35        0  33.6   \n",
            "1            1       85             66             29        0  26.6   \n",
            "2            8      183             64              0        0  23.3   \n",
            "3            1       89             66             23       94  28.1   \n",
            "4            0      137             40             35      168  43.1   \n",
            "\n",
            "   DiabetesPedigreeFunction  Age  Outcome  \n",
            "0                     0.627   50        1  \n",
            "1                     0.351   31        0  \n",
            "2                     0.672   32        1  \n",
            "3                     0.167   21        0  \n",
            "4                     2.288   33        1  \n"
          ]
        }
      ]
    },
    {
      "cell_type": "code",
      "source": [
        "# Create BMI_category column\n",
        "def categorize_bmi(bmi):\n",
        "    if bmi < 18.5:\n",
        "        return 'Underweight'\n",
        "    elif 18.5 <= bmi < 24.9:\n",
        "        return 'Normal weight'\n",
        "    elif 25 <= bmi < 29.9:\n",
        "        return 'Overweight'\n",
        "    else:\n",
        "        return 'Obese'\n",
        "\n",
        "df[\"BMI_category\"] = df[\"BMI\"].apply(categorize_bmi)\n",
        "print(\"BMI Categories:\\n\", df[\"BMI_category\"].value_counts())"
      ],
      "metadata": {
        "colab": {
          "base_uri": "https://localhost:8080/"
        },
        "id": "SzTnQ-xGRM0S",
        "outputId": "c3ecb301-a51f-44f3-b7a0-84f9b941c8f7"
      },
      "execution_count": 21,
      "outputs": [
        {
          "output_type": "stream",
          "name": "stdout",
          "text": [
            "BMI Categories:\n",
            " BMI_category\n",
            "Obese            478\n",
            "Overweight       174\n",
            "Normal weight    101\n",
            "Underweight       15\n",
            "Name: count, dtype: int64\n"
          ]
        }
      ]
    },
    {
      "cell_type": "code",
      "source": [
        "# Splitting dataset into training and validation sets\n",
        "train_df, val_df = train_test_split(df, test_size=0.2, random_state=42)"
      ],
      "metadata": {
        "id": "KcCND9t5RMx2"
      },
      "execution_count": 22,
      "outputs": []
    },
    {
      "cell_type": "code",
      "source": [
        "# Define feature processing\n",
        "num_features = [\"Pregnancies\", \"Glucose\", \"BloodPressure\", \"SkinThickness\", \"Insulin\", \"BMI\", \"DiabetesPedigreeFunction\", \"Age\"]\n",
        "cat_features = [\"BMI_category\"]\n",
        "\n",
        "scaler = StandardScaler()\n",
        "one_hot_encoder = OneHotEncoder(handle_unknown='ignore')\n",
        "\n",
        "preprocessor = ColumnTransformer([\n",
        "    ('num', scaler, num_features),\n",
        "    ('cat', one_hot_encoder, cat_features)\n",
        "])\n"
      ],
      "metadata": {
        "id": "v6t893PQRMlN"
      },
      "execution_count": 23,
      "outputs": []
    },
    {
      "cell_type": "code",
      "source": [
        "# Transform features\n",
        "X_train = preprocessor.fit_transform(train_df)\n",
        "X_val = preprocessor.transform(val_df)\n",
        "y_train = train_df['Outcome']\n",
        "y_val = val_df['Outcome']\n",
        "print(\"Processed Training Features Shape:\", X_train.shape)\n",
        "print(\"Processed Validation Features Shape:\", X_val.shape)"
      ],
      "metadata": {
        "colab": {
          "base_uri": "https://localhost:8080/"
        },
        "id": "p74VYptQRVRp",
        "outputId": "e4bea3e1-2615-4f27-b7dd-92ea32c72bb4"
      },
      "execution_count": 24,
      "outputs": [
        {
          "output_type": "stream",
          "name": "stdout",
          "text": [
            "Processed Training Features Shape: (614, 12)\n",
            "Processed Validation Features Shape: (154, 12)\n"
          ]
        }
      ]
    },
    {
      "cell_type": "code",
      "source": [
        "# Train and evaluate KNN model\n",
        "best_knn_f1, best_k = 0, None\n",
        "for k in [3, 5, 7]:\n",
        "    knn = KNeighborsClassifier(n_neighbors=k)\n",
        "    knn.fit(X_train, y_train)\n",
        "    y_pred = knn.predict(X_val)\n",
        "    f1 = f1_score(y_val, y_pred)\n",
        "    print(f\"KNN with k={k} F1 Score: {f1}\")\n",
        "    if f1 > best_knn_f1:\n",
        "        best_knn_f1 = f1\n",
        "        best_k = k\n",
        "        best_knn_model = knn"
      ],
      "metadata": {
        "colab": {
          "base_uri": "https://localhost:8080/"
        },
        "id": "Y-Osh4UiRVPP",
        "outputId": "aa94dde0-609e-4d82-d4f7-ae36c1f53747"
      },
      "execution_count": 25,
      "outputs": [
        {
          "output_type": "stream",
          "name": "stdout",
          "text": [
            "KNN with k=3 F1 Score: 0.6181818181818182\n",
            "KNN with k=5 F1 Score: 0.5555555555555556\n",
            "KNN with k=7 F1 Score: 0.5849056603773585\n"
          ]
        }
      ]
    },
    {
      "cell_type": "code",
      "source": [
        "# Train and evaluate Decision Tree model\n",
        "best_dt_f1, best_depth = 0, None\n",
        "for depth in [3, 5, 7]:\n",
        "    dt = DecisionTreeClassifier(max_depth=depth, random_state=42)\n",
        "    dt.fit(X_train, y_train)\n",
        "    y_pred = dt.predict(X_val)\n",
        "    f1 = f1_score(y_val, y_pred)\n",
        "    print(f\"Decision Tree with depth={depth} F1 Score: {f1}\")\n",
        "    if f1 > best_dt_f1:\n",
        "        best_dt_f1 = f1\n",
        "        best_depth = depth\n",
        "        best_dt_model = dt"
      ],
      "metadata": {
        "colab": {
          "base_uri": "https://localhost:8080/"
        },
        "id": "pq_i4EQdRVMq",
        "outputId": "b020a2f9-e88a-4520-8418-2679176b4a44"
      },
      "execution_count": 26,
      "outputs": [
        {
          "output_type": "stream",
          "name": "stdout",
          "text": [
            "Decision Tree with depth=3 F1 Score: 0.6476190476190476\n",
            "Decision Tree with depth=5 F1 Score: 0.693069306930693\n",
            "Decision Tree with depth=7 F1 Score: 0.6379310344827587\n"
          ]
        }
      ]
    },
    {
      "cell_type": "code",
      "source": [
        "# Save the best model and preprocessing steps\n",
        "best_model = best_knn_model if best_knn_f1 > best_dt_f1 else best_dt_model\n",
        "joblib.dump(preprocessor, \"preprocessor.pkl\")\n",
        "joblib.dump(best_model, \"best_model.pkl\")\n",
        "print(\"Best model saved\")"
      ],
      "metadata": {
        "colab": {
          "base_uri": "https://localhost:8080/"
        },
        "id": "BJW53wXsRftA",
        "outputId": "cdbaca75-644d-4f8a-eda0-fd95003dea60"
      },
      "execution_count": 27,
      "outputs": [
        {
          "output_type": "stream",
          "name": "stdout",
          "text": [
            "Best model saved\n"
          ]
        }
      ]
    },
    {
      "cell_type": "code",
      "source": [
        "# Inference function\n",
        "def infer(sample):\n",
        "    preprocessor = joblib.load(\"preprocessor.pkl\")\n",
        "    model = joblib.load(\"best_model.pkl\")\n",
        "    processed_sample = preprocessor.transform(sample)\n",
        "    prediction = model.predict(processed_sample)\n",
        "    return prediction"
      ],
      "metadata": {
        "id": "jzjDbde7Rfhb"
      },
      "execution_count": 28,
      "outputs": []
    },
    {
      "cell_type": "code",
      "source": [
        "# Demonstrate inference with 5 validation samples\n",
        "samples = val_df.sample(5, random_state=42)\n",
        "X_samples = samples.drop(columns=[\"Outcome\"])\n",
        "predictions = infer(X_samples)\n",
        "print(\"Predicted classes:\", predictions)\n"
      ],
      "metadata": {
        "colab": {
          "base_uri": "https://localhost:8080/"
        },
        "id": "rPrOhb4KRffL",
        "outputId": "dd88594d-52e8-4af2-e345-387a093a9c41"
      },
      "execution_count": 29,
      "outputs": [
        {
          "output_type": "stream",
          "name": "stdout",
          "text": [
            "Predicted classes: [0 0 0 0 1]\n"
          ]
        }
      ]
    }
  ]
}