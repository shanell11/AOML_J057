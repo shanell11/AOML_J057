{
  "cells": [
    {
      "cell_type": "code",
      "execution_count": null,
      "metadata": {
        "id": "BHuEjIhRFA3L"
      },
      "outputs": [],
      "source": [
        "import numpy as np\n",
        "import pandas as pd\n",
        "import matplotlib.pyplot as plt\n",
        "from sklearn.svm import SVC\n",
        "from sklearn.model_selection import GridSearchCV\n",
        "from sklearn.metrics import accuracy_score\n",
        "from sklearn.preprocessing import StandardScaler\n",
        "import idx2numpy\n",
        "\n",
        "# Load Fashion-MNIST dataset from idx files\n",
        "train_images_path = '/mnt/data/train-images-idx3-ubyte'\n",
        "train_labels_path = '/mnt/data/train-labels-idx1-ubyte'\n",
        "test_images_path = '/mnt/data/t10k-images-idx3-ubyte'\n",
        "test_labels_path = '/mnt/data/t10k-labels-idx1-ubyte'\n",
        "\n",
        "x_train = idx2numpy.convert_from_file(train_images_path)\n",
        "y_train = idx2numpy.convert_from_file(train_labels_path)\n",
        "x_test = idx2numpy.convert_from_file(test_images_path)\n",
        "y_test = idx2numpy.convert_from_file(test_labels_path)\n",
        "\n",
        "# Flatten images\n",
        "x_train = x_train.reshape(x_train.shape[0], -1)\n",
        "x_test = x_test.reshape(x_test.shape[0], -1)\n",
        "\n",
        "# Normalize data\n",
        "scaler = StandardScaler()\n",
        "x_train = scaler.fit_transform(x_train)\n",
        "x_test = scaler.transform(x_test)\n",
        "\n",
        "# Function to train SVM and find best hyperparameters\n",
        "def train_svm(kernel, param_grid):\n",
        "    svm = GridSearchCV(SVC(kernel=kernel), param_grid, cv=3, verbose=2, n_jobs=-1)\n",
        "    svm.fit(x_train, y_train)\n",
        "    best_params = svm.best_params_\n",
        "    accuracy = accuracy_score(y_test, svm.best_estimator_.predict(x_test))\n",
        "    print(f\"Best parameters for {kernel} SVM:\", best_params)\n",
        "    print(f\"Accuracy on test set: {accuracy:.4f}\")\n",
        "    return best_params, accuracy\n",
        "\n",
        "# Train SVM with Linear Kernel\n",
        "linear_params = {'C': [0.01, 0.1, 1, 10, 100]}\n",
        "train_svm('linear', linear_params)\n",
        "\n",
        "# Train SVM with Polynomial Kernel\n",
        "poly_params = {'C': [0.1, 1, 10], 'degree': [2, 3, 4]}\n",
        "train_svm('poly', poly_params)\n",
        "\n",
        "# Train SVM with RBF Kernel\n",
        "rbf_params = {'C': [0.1, 1, 10], 'gamma': ['scale', 'auto', 0.01, 0.1, 1]}\n",
        "train_svm('rbf', rbf_params)"
      ]
    },
    {
      "cell_type": "code",
      "execution_count": null,
      "metadata": {
        "id": "Ac4t8y4eFA3O"
      },
      "outputs": [],
      "source": []
    },
    {
      "cell_type": "code",
      "execution_count": null,
      "metadata": {
        "id": "CRK2xkv2FA3O",
        "outputId": "092e1d44-a882-43d7-a095-48c353208a9a"
      },
      "outputs": [
        {
          "name": "stdout",
          "output_type": "stream",
          "text": [
            "Fitting 3 folds for each of 5 candidates, totalling 15 fits\n"
          ]
        }
      ],
      "source": [
        "import numpy as np\n",
        "import pandas as pd\n",
        "import matplotlib.pyplot as plt\n",
        "from sklearn.svm import SVC\n",
        "from sklearn.model_selection import GridSearchCV\n",
        "from sklearn.metrics import accuracy_score\n",
        "from sklearn.preprocessing import StandardScaler\n",
        "\n",
        "# Load dataset from CSV files\n",
        "train_df = pd.read_csv('train.csv')\n",
        "test_df = pd.read_csv('test.csv')\n",
        "\n",
        "# Data Cleaning: Handling missing values and duplicates\n",
        "train_df.drop_duplicates(inplace=True)\n",
        "test_df.drop_duplicates(inplace=True)\n",
        "\n",
        "train_df.dropna(inplace=True)\n",
        "test_df.dropna(inplace=True)\n",
        "\n",
        "# Splitting features and labels\n",
        "x_train = train_df.drop(columns=['label'])\n",
        "y_train = train_df['label']\n",
        "x_test = test_df.drop(columns=['label'])\n",
        "y_test = test_df['label']\n",
        "\n",
        "# Normalize data\n",
        "scaler = StandardScaler()\n",
        "x_train = scaler.fit_transform(x_train)\n",
        "x_test = scaler.transform(x_test)\n",
        "\n",
        "# Function to train SVM and find best hyperparameters\n",
        "def train_svm(kernel, param_grid):\n",
        "    svm = GridSearchCV(SVC(kernel=kernel), param_grid, cv=3, verbose=2, n_jobs=-1)\n",
        "    svm.fit(x_train, y_train)\n",
        "    best_params = svm.best_params_\n",
        "    accuracy = accuracy_score(y_test, svm.best_estimator_.predict(x_test))\n",
        "    print(f\"Best parameters for {kernel} SVM:\", best_params)\n",
        "    print(f\"Accuracy on test set: {accuracy:.4f}\")\n",
        "    return best_params, accuracy\n",
        "\n",
        "# Train SVM with Linear Kernel\n",
        "linear_params = {'C': [0.01, 0.1, 1, 10, 100]}\n",
        "train_svm('linear', linear_params)\n",
        "\n",
        "# Train SVM with Polynomial Kernel\n",
        "poly_params = {'C': [0.1, 1, 10], 'degree': [2, 3, 4]}\n",
        "train_svm('poly', poly_params)\n",
        "\n",
        "# Train SVM with RBF Kernel\n",
        "rbf_params = {'C': [0.1, 1, 10], 'gamma': ['scale', 'auto', 0.01, 0.1, 1]}\n",
        "train_svm('rbf', rbf_params)"
      ]
    },
    {
      "cell_type": "code",
      "execution_count": null,
      "metadata": {
        "id": "38sVf2eJFA3P"
      },
      "outputs": [],
      "source": []
    }
  ],
  "metadata": {
    "kernelspec": {
      "display_name": "Python 3",
      "language": "python",
      "name": "python3"
    },
    "language_info": {
      "codemirror_mode": {
        "name": "ipython",
        "version": 3
      },
      "file_extension": ".py",
      "mimetype": "text/x-python",
      "name": "python",
      "nbconvert_exporter": "python",
      "pygments_lexer": "ipython3",
      "version": "3.12.6"
    },
    "colab": {
      "provenance": []
    }
  },
  "nbformat": 4,
  "nbformat_minor": 0
}